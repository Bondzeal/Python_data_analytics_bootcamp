{
 "cells": [
  {
   "cell_type": "markdown",
   "metadata": {},
   "source": [
    "# Variables"
   ]
  },
  {
   "cell_type": "code",
   "execution_count": 4,
   "metadata": {},
   "outputs": [
    {
     "name": "stdout",
     "output_type": "stream",
     "text": [
      "22\n"
     ]
    }
   ],
   "source": [
    "x = 22\n",
    "print(x)"
   ]
  },
  {
   "cell_type": "code",
   "execution_count": 7,
   "metadata": {},
   "outputs": [
    {
     "data": {
      "text/plain": [
       "int"
      ]
     },
     "execution_count": 7,
     "metadata": {},
     "output_type": "execute_result"
    }
   ],
   "source": [
    "type(x)\n",
    "# This checks the type of variable"
   ]
  },
  {
   "cell_type": "code",
   "execution_count": 1,
   "metadata": {},
   "outputs": [
    {
     "data": {
      "text/plain": [
       "str"
      ]
     },
     "execution_count": 1,
     "metadata": {},
     "output_type": "execute_result"
    }
   ],
   "source": [
    "# Assigning a string value or text to a variable\n",
    "y = \"Mint Chocolate Chip\"\n",
    "\n",
    "# Checking for type of variable\n",
    "type(y)\n",
    "\n",
    "# Note that variables are case sensitive"
   ]
  },
  {
   "cell_type": "code",
   "execution_count": 3,
   "metadata": {},
   "outputs": [
    {
     "name": "stdout",
     "output_type": "stream",
     "text": [
      "Chocolate\n",
      "Vanilla\n",
      "Rocky Road\n"
     ]
    }
   ],
   "source": [
    "# Assigning values to 3 different values respectively\n",
    "\n",
    "x,y,z = \"Chocolate\",\"Vanilla\",\"Rocky Road\"\n",
    "\n",
    "print(x)\n",
    "print(y)\n",
    "print(z)\n",
    "\n",
    "# Note that different variables can contain the same value provided it is separated with an equal to sign when naming the variable instead of a comma.\n",
    "# For instance: x = y = z = \"Yes\" gives the same value of \"yes\" to all the variables"
   ]
  },
  {
   "cell_type": "code",
   "execution_count": 4,
   "metadata": {},
   "outputs": [
    {
     "name": "stdout",
     "output_type": "stream",
     "text": [
      "Chocolate\n",
      "Vanilla\n",
      "Rocky Road\n"
     ]
    }
   ],
   "source": [
    "ice_cream = [\"Chocolate\",\"Vanilla\",\"Rocky Road\"]\n",
    "x,y,z = ice_cream\n",
    "\n",
    "print(x)\n",
    "print(y)\n",
    "print(z)\n",
    "\n",
    "# This assigns values within the variable \"ice_cream\" to the respective variables listed as x,y and z"
   ]
  },
  {
   "cell_type": "code",
   "execution_count": null,
   "metadata": {},
   "outputs": [],
   "source": [
    "# There are 3 ways of naming a variable: Pascal case, Camel case, and Snake case\n",
    "\n",
    "# Pascale Case\n",
    "TestVariableCase = \"Vanilla Swirl\"\n",
    "\n",
    "# Camel Case\n",
    "TestVariableCase = \"Vanilla Swirl\"\n",
    "\n",
    "# Snake Case\n",
    "Test_Variable_Case = \"Vanilla Swirl\""
   ]
  },
  {
   "cell_type": "code",
   "execution_count": 5,
   "metadata": {},
   "outputs": [
    {
     "name": "stdout",
     "output_type": "stream",
     "text": [
      "Ice Cream is my favourite.\n"
     ]
    }
   ],
   "source": [
    "# This can be done in assigning a value to a variable\n",
    "\n",
    "x = \"Ice Cream is my favourite\" + \".\"\n",
    "print(x)\n",
    "\n",
    "# This adds trhe full stop at the end of the string. The plus sign functions as a concatenator\n",
    "# Note that you can only add a string to a string in a variable but not a string and an integer. Here, instead of the full stop, replacing it with 2 brings an error."
   ]
  },
  {
   "cell_type": "code",
   "execution_count": 6,
   "metadata": {},
   "outputs": [
    {
     "name": "stdout",
     "output_type": "stream",
     "text": [
      "6\n"
     ]
    }
   ],
   "source": [
    "# Performing addition \n",
    "x = 1\n",
    "y = 2\n",
    "z = 3\n",
    "\n",
    "print(x+y+z)"
   ]
  },
  {
   "cell_type": "code",
   "execution_count": 9,
   "metadata": {},
   "outputs": [
    {
     "name": "stdout",
     "output_type": "stream",
     "text": [
      "Ice Cream 2\n"
     ]
    }
   ],
   "source": [
    "# A string can be added to an integer by doing this\n",
    "x = \"Ice Cream\"\n",
    "y = 2\n",
    "\n",
    "print(x,y) # The comma here facilitates concatenation and hence includes value in y variable in final output \n",
    "\n",
    "# Replacing the comma sign with a plus sign brings error "
   ]
  },
  {
   "cell_type": "code",
   "execution_count": null,
   "metadata": {},
   "outputs": [],
   "source": []
  }
 ],
 "metadata": {
  "kernelspec": {
   "display_name": "base",
   "language": "python",
   "name": "python3"
  },
  "language_info": {
   "codemirror_mode": {
    "name": "ipython",
    "version": 3
   },
   "file_extension": ".py",
   "mimetype": "text/x-python",
   "name": "python",
   "nbconvert_exporter": "python",
   "pygments_lexer": "ipython3",
   "version": "3.12.7"
  }
 },
 "nbformat": 4,
 "nbformat_minor": 2
}
