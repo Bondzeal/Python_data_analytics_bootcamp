{
 "cells": [
  {
   "cell_type": "markdown",
   "metadata": {},
   "source": [
    "# Data Types"
   ]
  },
  {
   "cell_type": "code",
   "execution_count": 1,
   "metadata": {},
   "outputs": [],
   "source": [
    "# Note:\n",
    "\n",
    "# Data types are the classfication of the data being stored.\n",
    "# These classfications tell what kind of operation can be performed on the data\n",
    "# Main data types in Python are numeric, sequence type, boolean and dictionary \n",
    "# Numeric data type includes integers, float and complex numbers\n",
    "# An integer is a whole number whether it is positive or negative\n",
    "# A float consists of a decimal number \n",
    "# A complex number is useed for imaginary numbers. J is always used as that imaginary number\n",
    "# Boolean has only two built-in values; true and false. It can be used as a comparison operator.\n",
    "\n",
    "# Strings are arrays of bytes representing unicode characters. They are usually put in a single, double or triple quote.\n",
    "# The triple quotes can be used for multiline printing especially when printing out a poem\n",
    " "
   ]
  },
  {
   "cell_type": "markdown",
   "metadata": {},
   "source": [
    "# Strings"
   ]
  },
  {
   "cell_type": "code",
   "execution_count": 2,
   "metadata": {},
   "outputs": [
    {
     "name": "stdout",
     "output_type": "stream",
     "text": [
      "\n",
      "Oh how I love my Baby Girl\n",
      "I am so glad I met her.\n",
      "I can clearly tell she is one of the blessings GOD ever gave me.\n",
      "I love my Baby!\n",
      "\n",
      "\n"
     ]
    }
   ],
   "source": [
    "# Example of triple quote used for string variables\n",
    "multiline = \"\"\"\n",
    "Oh how I love my Baby Girl\n",
    "I am so glad I met her.\n",
    "I can clearly tell she is one of the blessings GOD ever gave me.\n",
    "I love my Baby!\n",
    "\n",
    "\"\"\"\n",
    "\n",
    "print(multiline)"
   ]
  },
  {
   "cell_type": "code",
   "execution_count": 3,
   "metadata": {},
   "outputs": [
    {
     "name": "stdout",
     "output_type": "stream",
     "text": [
      "\n",
      "I've always wanted to \"marry early\"\n",
      "\n",
      "\n"
     ]
    }
   ],
   "source": [
    "# Example 2 of multiline strings within a variable but with a quotation mark within the string \n",
    "multiline2 = \"\"\"\n",
    "I've always wanted to \"marry early\"\n",
    "\n",
    "\"\"\"\n",
    "\n",
    "print(multiline2)"
   ]
  },
  {
   "cell_type": "code",
   "execution_count": 4,
   "metadata": {},
   "outputs": [
    {
     "name": "stdout",
     "output_type": "stream",
     "text": [
      "Hello\n"
     ]
    }
   ],
   "source": [
    "# Searching though a string using index \n",
    "a = 'Hello World!'\n",
    "print(a[:5])\n",
    "\n",
    "# This displays from the start of string to the fifth position"
   ]
  },
  {
   "cell_type": "code",
   "execution_count": 5,
   "metadata": {},
   "outputs": [
    {
     "name": "stdout",
     "output_type": "stream",
     "text": [
      "llo\n"
     ]
    }
   ],
   "source": [
    "a = 'Hello World!'\n",
    "print(a[2:5])\n",
    "\n",
    "# This displays characters from the 3rd to 5th positions within the string. For arrays, the first index is always 0."
   ]
  },
  {
   "cell_type": "markdown",
   "metadata": {},
   "source": [
    "# Lists"
   ]
  },
  {
   "cell_type": "code",
   "execution_count": null,
   "metadata": {},
   "outputs": [],
   "source": [
    "# NOTES\n",
    "\n",
    "# Lists store multiple separate values unlike strings that store one value but of multiple characters. \n",
    "# The comma in the list denotes that they are separate values. An example is shown below.\n",
    "# A list is indexed exactly how a string is indexed. First position is always indexed as 0. \n",
    "# A list can contain any data type.\n",
    "# A list can contain a list.\n",
    "# Lists are changeable."
   ]
  },
  {
   "cell_type": "code",
   "execution_count": 6,
   "metadata": {},
   "outputs": [
    {
     "data": {
      "text/plain": [
       "[1, 2, 3]"
      ]
     },
     "execution_count": 6,
     "metadata": {},
     "output_type": "execute_result"
    }
   ],
   "source": [
    "[1,2,3]"
   ]
  },
  {
   "cell_type": "code",
   "execution_count": 7,
   "metadata": {},
   "outputs": [
    {
     "data": {
      "text/plain": [
       "['Cookie Dough', 'Strawberry', 'Chocolate']"
      ]
     },
     "execution_count": 7,
     "metadata": {},
     "output_type": "execute_result"
    }
   ],
   "source": [
    "['Cookie Dough','Strawberry', 'Chocolate']"
   ]
  },
  {
   "cell_type": "code",
   "execution_count": 8,
   "metadata": {},
   "outputs": [
    {
     "data": {
      "text/plain": [
       "['Vanilla', 3, ['Scoops', 'Spoon'], True]"
      ]
     },
     "execution_count": 8,
     "metadata": {},
     "output_type": "execute_result"
    }
   ],
   "source": [
    "# Creating a list containing different data types and another list. \n",
    "\n",
    "['Vanilla', 3, ['Scoops','Spoon'], True]"
   ]
  },
  {
   "cell_type": "code",
   "execution_count": 11,
   "metadata": {},
   "outputs": [
    {
     "name": "stdout",
     "output_type": "stream",
     "text": [
      "['Cookie Dough', 'Strawberry', 'Chocolate', 'Salted Caramel']\n"
     ]
    }
   ],
   "source": [
    "# Adding a value to an already-existing list that has been created.\n",
    "\n",
    "ice_cream = ['Cookie Dough','Strawberry', 'Chocolate']\n",
    "ice_cream.append('Salted Caramel') # This adds the value to the end of the original created list.\n",
    "\n",
    "print(ice_cream)\n"
   ]
  },
  {
   "cell_type": "code",
   "execution_count": 12,
   "metadata": {},
   "outputs": [
    {
     "data": {
      "text/plain": [
       "['Butter Pacan', 'Strawberry', 'Chocolate', 'Salted Caramel']"
      ]
     },
     "execution_count": 12,
     "metadata": {},
     "output_type": "execute_result"
    }
   ],
   "source": [
    "# Changing a value within an already-existing list\n",
    "\n",
    "ice_cream[0] = 'Butter Pacan'\n",
    "\n",
    "ice_cream\n"
   ]
  },
  {
   "cell_type": "code",
   "execution_count": 14,
   "metadata": {},
   "outputs": [
    {
     "data": {
      "text/plain": [
       "'Vanilla'"
      ]
     },
     "execution_count": 14,
     "metadata": {},
     "output_type": "execute_result"
    }
   ],
   "source": [
    "nested_list = ['Vanilla', 3, ['Scoops','Spoon'], True]\n",
    "\n",
    "nested_list[0]"
   ]
  },
  {
   "cell_type": "code",
   "execution_count": 15,
   "metadata": {},
   "outputs": [
    {
     "data": {
      "text/plain": [
       "3"
      ]
     },
     "execution_count": 15,
     "metadata": {},
     "output_type": "execute_result"
    }
   ],
   "source": [
    "nested_list[1]\n"
   ]
  },
  {
   "cell_type": "code",
   "execution_count": 16,
   "metadata": {},
   "outputs": [
    {
     "data": {
      "text/plain": [
       "['Scoops', 'Spoon']"
      ]
     },
     "execution_count": 16,
     "metadata": {},
     "output_type": "execute_result"
    }
   ],
   "source": [
    "nested_list[2]\n"
   ]
  },
  {
   "cell_type": "code",
   "execution_count": 17,
   "metadata": {},
   "outputs": [
    {
     "data": {
      "text/plain": [
       "'Spoon'"
      ]
     },
     "execution_count": 17,
     "metadata": {},
     "output_type": "execute_result"
    }
   ],
   "source": [
    "nested_list[2][1]\n"
   ]
  },
  {
   "cell_type": "code",
   "execution_count": 18,
   "metadata": {},
   "outputs": [
    {
     "data": {
      "text/plain": [
       "True"
      ]
     },
     "execution_count": 18,
     "metadata": {},
     "output_type": "execute_result"
    }
   ],
   "source": [
    "nested_list[3]"
   ]
  },
  {
   "cell_type": "markdown",
   "metadata": {},
   "source": [
    "# Tuple"
   ]
  },
  {
   "cell_type": "code",
   "execution_count": null,
   "metadata": {},
   "outputs": [],
   "source": [
    "# NOTES\n",
    "\n",
    "# It is something called immutable. This means it cannot be modified or changed after it's created.\n",
    "# A tuple is also indexed.\n",
    "# The append function can't be used to add another value to an existing tuple. This gives an error which then confirms that a tuple is immutable. "
   ]
  },
  {
   "cell_type": "code",
   "execution_count": 19,
   "metadata": {},
   "outputs": [
    {
     "data": {
      "text/plain": [
       "tuple"
      ]
     },
     "execution_count": 19,
     "metadata": {},
     "output_type": "execute_result"
    }
   ],
   "source": [
    "tuple_scoops = (1,2,3,4,5)\n",
    "type(tuple_scoops)"
   ]
  },
  {
   "cell_type": "markdown",
   "metadata": {},
   "source": [
    "# Sets"
   ]
  },
  {
   "cell_type": "code",
   "execution_count": null,
   "metadata": {},
   "outputs": [],
   "source": [
    "# NOTES\n",
    "# The values within a set can't be accessed using index because it doesn't have one.\n",
    "# A set is similar to list and tuple but a little different.\n",
    "# A set doesn't have any duplicate elements. \n",
    "# A set is usually unordered.\n",
    "# Items can be looped within a set but they can't be accessed using the brackets to access its index.\n",
    "# If a set consists of duplicate values, in printing it out, it only displays unique values."
   ]
  },
  {
   "cell_type": "code",
   "execution_count": 20,
   "metadata": {},
   "outputs": [
    {
     "data": {
      "text/plain": [
       "set"
      ]
     },
     "execution_count": 20,
     "metadata": {},
     "output_type": "execute_result"
    }
   ],
   "source": [
    "daily_pints = {1,2,3}\n",
    "\n",
    "type(daily_pints)"
   ]
  },
  {
   "cell_type": "code",
   "execution_count": 21,
   "metadata": {},
   "outputs": [
    {
     "name": "stdout",
     "output_type": "stream",
     "text": [
      "{1, 2, 3, 4, 5, 6, 31}\n"
     ]
    }
   ],
   "source": [
    "# An example of a set displaying unique values only\n",
    "\n",
    "daily_pints_log = {1,2,31,2,3,4,1,2,5,6,3,2}\n",
    "\n",
    "print(daily_pints_log)"
   ]
  },
  {
   "cell_type": "code",
   "execution_count": 22,
   "metadata": {},
   "outputs": [
    {
     "name": "stdout",
     "output_type": "stream",
     "text": [
      "{0, 1, 2, 3, 4, 5, 6, 7, 24, 31}\n"
     ]
    }
   ],
   "source": [
    "# Printing out unique values of 2 separate sets as one\n",
    "\n",
    "wife_daily_pint_log = {1,3,5,7,3,24,5,7,3,2,0}\n",
    "\n",
    "print(daily_pints_log | wife_daily_pint_log)"
   ]
  },
  {
   "cell_type": "code",
   "execution_count": 23,
   "metadata": {},
   "outputs": [
    {
     "name": "stdout",
     "output_type": "stream",
     "text": [
      "{1, 2, 3, 5}\n"
     ]
    }
   ],
   "source": [
    "# Displaying common uinque values from two different sets\n",
    "\n",
    "print(daily_pints_log & wife_daily_pint_log)"
   ]
  },
  {
   "cell_type": "code",
   "execution_count": 24,
   "metadata": {},
   "outputs": [
    {
     "name": "stdout",
     "output_type": "stream",
     "text": [
      "{4, 6, 31}\n"
     ]
    }
   ],
   "source": [
    "# Displaying uinque values from 2 sets that don't have common values. In other words, these numbers don't match.\n",
    "\n",
    "print(daily_pints_log - wife_daily_pint_log)"
   ]
  },
  {
   "cell_type": "code",
   "execution_count": 25,
   "metadata": {},
   "outputs": [
    {
     "name": "stdout",
     "output_type": "stream",
     "text": [
      "{0, 4, 6, 7, 24, 31}\n"
     ]
    }
   ],
   "source": [
    "# Displaying values that are in one or the but not in both\n",
    "\n",
    "print(wife_daily_pint_log ^ daily_pints_log)"
   ]
  },
  {
   "cell_type": "markdown",
   "metadata": {},
   "source": [
    "# Dictionaries"
   ]
  },
  {
   "cell_type": "code",
   "execution_count": null,
   "metadata": {},
   "outputs": [],
   "source": [
    "# This is more of a key-value pair\n",
    "# Example:\n",
    "# variable_name = {'key1':'value1','key2':'value2'}\n",
    "# A list can be added to a dictionary\n",
    "# A \"key:value\" pair is termed as 1 item.\n",
    "# A dictionary is called by the key\n",
    "# Information can be updated in a dictionary"
   ]
  },
  {
   "cell_type": "code",
   "execution_count": 34,
   "metadata": {},
   "outputs": [
    {
     "name": "stdout",
     "output_type": "stream",
     "text": [
      "{'name': 'Lex Freberg', 'weekly intake': 5, 'favourite icecreams': ['MCC', 'Chocolate']}\n"
     ]
    }
   ],
   "source": [
    "dict_cream = {'name': 'Lex Freberg', 'weekly intake': 5, 'favourite icecreams': ['MCC', 'Chocolate']}\n",
    "print(dict_cream)"
   ]
  },
  {
   "cell_type": "code",
   "execution_count": 27,
   "metadata": {},
   "outputs": [
    {
     "data": {
      "text/plain": [
       "dict"
      ]
     },
     "execution_count": 27,
     "metadata": {},
     "output_type": "execute_result"
    }
   ],
   "source": [
    "type(dict_cream)"
   ]
  },
  {
   "cell_type": "code",
   "execution_count": 35,
   "metadata": {},
   "outputs": [
    {
     "data": {
      "text/plain": [
       "dict_values(['Lex Freberg', 5, ['MCC', 'Chocolate']])"
      ]
     },
     "execution_count": 35,
     "metadata": {},
     "output_type": "execute_result"
    }
   ],
   "source": [
    "# Checking for all values within dictionary\n",
    "\n",
    "dict_cream.values()"
   ]
  },
  {
   "cell_type": "code",
   "execution_count": 36,
   "metadata": {},
   "outputs": [
    {
     "data": {
      "text/plain": [
       "dict_keys(['name', 'weekly intake', 'favourite icecreams'])"
      ]
     },
     "execution_count": 36,
     "metadata": {},
     "output_type": "execute_result"
    }
   ],
   "source": [
    "# Checking for keys within dictionary\n",
    "\n",
    "dict_cream.keys()"
   ]
  },
  {
   "cell_type": "code",
   "execution_count": 31,
   "metadata": {},
   "outputs": [
    {
     "data": {
      "text/plain": [
       "dict_items([('name', 'Lex Freberg'), ('weekly intake', 5), ('avourite icecreams', ['MCC', 'Chocolate'])])"
      ]
     },
     "execution_count": 31,
     "metadata": {},
     "output_type": "execute_result"
    }
   ],
   "source": [
    "# Chcking for items within a dictionary\n",
    "\n",
    "dict_cream.items()"
   ]
  },
  {
   "cell_type": "code",
   "execution_count": 37,
   "metadata": {},
   "outputs": [
    {
     "data": {
      "text/plain": [
       "'Lex Freberg'"
      ]
     },
     "execution_count": 37,
     "metadata": {},
     "output_type": "execute_result"
    }
   ],
   "source": [
    "# Calling a dictionary by the key\n",
    "\n",
    "dict_cream['name']"
   ]
  },
  {
   "cell_type": "code",
   "execution_count": 41,
   "metadata": {},
   "outputs": [
    {
     "name": "stdout",
     "output_type": "stream",
     "text": [
      "{'name': 'Christine Freberg', 'weekly intake': 5, 'favourite icecreams': ['MCC', 'Chocolate']}\n"
     ]
    }
   ],
   "source": [
    "# Updating the value of a key within a dictionary\n",
    "\n",
    "dict_cream['name'] = 'Christine Freberg'\n",
    "\n",
    "print(dict_cream)"
   ]
  },
  {
   "cell_type": "code",
   "execution_count": 43,
   "metadata": {},
   "outputs": [
    {
     "name": "stdout",
     "output_type": "stream",
     "text": [
      "{'name': 'Christine Freberg', 'weekly intake': 5, 'favourite icecreams': ['MCC', 'Chocolate'], 'weight': 300}\n"
     ]
    }
   ],
   "source": [
    "# Updating all values of keys within a dictionary one time or at a go\n",
    "\n",
    "dict_cream.update({'name': 'Christine Freberg', 'weekly intake': 5, 'weight': 300})\n",
    "print(dict_cream)\n",
    "\n",
    "# This adds a key called \"weight\" and its value 300 to the already-existing dictionary"
   ]
  },
  {
   "cell_type": "code",
   "execution_count": null,
   "metadata": {},
   "outputs": [],
   "source": [
    "# Note that a key and its value can be deleted.\n",
    "# Here's how:\n",
    "\n",
    "# del dict_cream['weight']"
   ]
  }
 ],
 "metadata": {
  "kernelspec": {
   "display_name": "base",
   "language": "python",
   "name": "python3"
  },
  "language_info": {
   "codemirror_mode": {
    "name": "ipython",
    "version": 3
   },
   "file_extension": ".py",
   "mimetype": "text/x-python",
   "name": "python",
   "nbconvert_exporter": "python",
   "pygments_lexer": "ipython3",
   "version": "3.12.7"
  }
 },
 "nbformat": 4,
 "nbformat_minor": 2
}
